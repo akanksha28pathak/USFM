{
 "cells": [
  {
   "cell_type": "code",
   "execution_count": null,
   "id": "e24813f5",
   "metadata": {},
   "outputs": [],
   "source": [
    "import sys\n",
    "import os\n",
    "\n",
    "def add_folder_and_subfolders_to_sys_path(root_folder):\n",
    "    for dirpath, dirnames, filenames in os.walk(root_folder):\n",
    "        if dirpath not in sys.path:\n",
    "            sys.path.append(dirpath)\n",
    "\n",
    "# Example usage\n",
    "root_folder_path = r\"C:\\Users\\FAKANKS\\mmcv\"\n",
    "add_folder_and_subfolders_to_sys_path(root_folder_path)"
   ]
  },
  {
   "cell_type": "code",
   "execution_count": null,
   "id": "ec5cdf21",
   "metadata": {},
   "outputs": [],
   "source": [
    "import os, glob, logging, csv\n",
    "import torch, numpy as np, SimpleITK as sitk, pandas as pd\n",
    "from PIL import Image\n",
    "from tqdm.auto import tqdm\n",
    "from torchvision import transforms\n",
    "from usdsgen.modules.backbone.segbackbone import HVITBackbone4Seg"
   ]
  },
  {
   "cell_type": "code",
   "execution_count": null,
   "id": "a8b2dbdd",
   "metadata": {},
   "outputs": [],
   "source": [
    "# ------------------------------- CONFIG -------------------------------------\n",
    "ROOT      = r\"C:\\Users\\FAKANKS\\USFM\\dataset\"            # patient folders\n",
    "WEIGHTS   = r\"C:\\Users\\FAKANKS\\USFM\\assets\\FMweight\\USFM_latest.pth\"\n",
    "IMG_SIZE  = 224\n",
    "OUT_NPZ   = r\"C:\\Users\\FAKANKS\\USFM\\slice_features_usfm_cancer.npz\"\n",
    "OUT_CSV   = r\"C:\\Users\\FAKANKS\\USFM\\slice_feature_summary_cancer.csv\"\n",
    "LOG_FILE  = r\"C:\\Users\\FAKANKS\\USFM\\usfm_slice_extract_cancer.log\"\n",
    "# ----------------------------------------------------------------------------"
   ]
  }
 ],
 "metadata": {
  "kernelspec": {
   "display_name": "USFM",
   "language": "python",
   "name": "python3"
  },
  "language_info": {
   "name": "python",
   "version": "3.9.23"
  }
 },
 "nbformat": 4,
 "nbformat_minor": 5
}
